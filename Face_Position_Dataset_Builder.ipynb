{
  "nbformat": 4,
  "nbformat_minor": 0,
  "metadata": {
    "colab": {
      "name": "Face Position Dataset Builder.ipynb",
      "version": "0.3.2",
      "provenance": [],
      "collapsed_sections": [],
      "toc_visible": true,
      "include_colab_link": true
    },
    "kernelspec": {
      "name": "python3",
      "display_name": "Python 3"
    }
  },
  "cells": [
    {
      "cell_type": "markdown",
      "metadata": {
        "id": "view-in-github",
        "colab_type": "text"
      },
      "source": [
        "<a href=\"https://colab.research.google.com/github/26medias/TF-Face-Angle-Translation/blob/master/Face_Position_Dataset_Builder.ipynb\" target=\"_parent\"><img src=\"https://colab.research.google.com/assets/colab-badge.svg\" alt=\"Open In Colab\"/></a>"
      ]
    },
    {
      "cell_type": "markdown",
      "metadata": {
        "id": "UMKcGshGTWv1",
        "colab_type": "text"
      },
      "source": [
        "# Face Angle Dataset Generator"
      ]
    },
    {
      "cell_type": "code",
      "metadata": {
        "id": "kaQniUZYTVWk",
        "colab_type": "code",
        "colab": {},
        "cellView": "code"
      },
      "source": [
        "CAPTURE_FPS = 1 #@param {type:\"slider\", min:1, max:30, step:1}\n",
        "\n",
        "import requests\n",
        "import ntpath\n",
        "import cv2\n",
        "import os, sys\n",
        "\n",
        "# The variables\n",
        "DIR_VIDEOS = \"videos\"\n",
        "DIR_IMAGES = \"images\"\n",
        "#CAPTURE_FTP  = 2 # We'll extract 2 images per second of video\n",
        "\n",
        "if not os.path.isdir(DIR_VIDEOS):\n",
        "  os.mkdir(DIR_VIDEOS, 755);\n",
        "if not os.path.isdir(DIR_IMAGES):\n",
        "  os.mkdir(DIR_IMAGES, 755);\n",
        "\n",
        "def downloadFile(url):\n",
        "  myfile = requests.get(url)\n",
        "  filename = ntpath.basename(url)\n",
        "  open(filename, 'wb').write(myfile.content)\n",
        "  return filename\n",
        "\n",
        "\n",
        "def videoToImages(filename, capture_fps=1):\n",
        "  basename = os.path.splitext(filename)[0]\n",
        "  os.mkdir(basename, 755);\n",
        "  cap = cv2.VideoCapture(filename)\n",
        "  # Get the video's FPS\n",
        "  fps = cap.get(cv2.CAP_PROP_FPS)\n",
        "  # How many frames between capture?\n",
        "  skipFrame = round(fps/capture_fps)\n",
        "  print(basename, \": ftp: \",ftp,\" / skipFrame: \", skipFrame)\n",
        "  i = 0\n",
        "  while(cap.isOpened()):\n",
        "      ret, frame = cap.read()\n",
        "      if ret == False:\n",
        "          break\n",
        "      if (i % skipFrame == 0):\n",
        "        continue\n",
        "      cv2.imwrite(basename+'/'+str(i)+'.jpg',frame)\n",
        "      i+=1\n",
        "  cap.release()\n",
        "  cv2.destroyAllWindows()\n",
        "  \n",
        "  \n",
        "#videoFilename = downloadFile(\"http://trailers.apple.com/movies/fox_searchlight/lucy-in-the-sky/lucy-in-the-sky-trailer-1_h480p.mov\")\n",
        "#videoToImages(videoFilename)"
      ],
      "execution_count": 0,
      "outputs": []
    }
  ]
}